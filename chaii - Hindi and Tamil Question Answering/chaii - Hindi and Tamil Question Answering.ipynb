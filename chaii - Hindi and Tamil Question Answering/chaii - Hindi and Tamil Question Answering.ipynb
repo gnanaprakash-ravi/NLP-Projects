{
 "cells": [
  {
   "cell_type": "code",
   "execution_count": null,
   "metadata": {
    "_cell_guid": "b1076dfc-b9ad-4769-8c92-a6c4dae69d19",
    "_uuid": "8f2839f25d086af736a60e9eeb907d3b93b6e0e5",
    "execution": {
     "iopub.execute_input": "2021-12-25T18:33:09.377376Z",
     "iopub.status.busy": "2021-12-25T18:33:09.377114Z",
     "iopub.status.idle": "2021-12-25T18:33:09.398502Z",
     "shell.execute_reply": "2021-12-25T18:33:09.397722Z",
     "shell.execute_reply.started": "2021-12-25T18:33:09.377348Z"
    }
   },
   "outputs": [],
   "source": [
    "# This Python 3 environment comes with many helpful analytics libraries installed\n",
    "# It is defined by the kaggle/python Docker image: https://github.com/kaggle/docker-python\n",
    "# For example, here's several helpful packages to load\n",
    "\n",
    "import numpy as np # linear algebra\n",
    "import pandas as pd # data processing, CSV file I/O (e.g. pd.read_csv)\n",
    "\n",
    "# Input data files are available in the read-only \"../input/\" directory\n",
    "# For example, running this (by clicking run or pressing Shift+Enter) will list all files under the input directory\n",
    "\n",
    "import os\n",
    "for dirname, _, filenames in os.walk('/kaggle/input'):\n",
    "    for filename in filenames:\n",
    "        print(os.path.join(dirname, filename))\n",
    "\n",
    "# You can write up to 20GB to the current directory (/kaggle/working/) that gets preserved as output when you create a version using \"Save & Run All\" \n",
    "# You can also write temporary files to /kaggle/temp/, but they won't be saved outside of the current session"
   ]
  },
  {
   "cell_type": "code",
   "execution_count": null,
   "metadata": {
    "execution": {
     "iopub.execute_input": "2021-12-25T18:33:09.400706Z",
     "iopub.status.busy": "2021-12-25T18:33:09.400203Z",
     "iopub.status.idle": "2021-12-25T18:33:10.686118Z",
     "shell.execute_reply": "2021-12-25T18:33:10.685092Z",
     "shell.execute_reply.started": "2021-12-25T18:33:09.400668Z"
    }
   },
   "outputs": [],
   "source": [
    "train = pd.read_csv(\"../input/chaiimlqaxquad/chaii-mlqa-xquad-5folds-count_leq10.csv\")"
   ]
  },
  {
   "cell_type": "code",
   "execution_count": null,
   "metadata": {
    "execution": {
     "iopub.execute_input": "2021-12-25T18:33:10.693512Z",
     "iopub.status.busy": "2021-12-25T18:33:10.68743Z",
     "iopub.status.idle": "2021-12-25T18:33:10.74106Z",
     "shell.execute_reply": "2021-12-25T18:33:10.740187Z",
     "shell.execute_reply.started": "2021-12-25T18:33:10.693465Z"
    }
   },
   "outputs": [],
   "source": [
    "train.describe()"
   ]
  },
  {
   "cell_type": "code",
   "execution_count": null,
   "metadata": {
    "execution": {
     "iopub.execute_input": "2021-12-25T18:33:10.747201Z",
     "iopub.status.busy": "2021-12-25T18:33:10.745828Z",
     "iopub.status.idle": "2021-12-25T18:33:10.764867Z",
     "shell.execute_reply": "2021-12-25T18:33:10.764118Z",
     "shell.execute_reply.started": "2021-12-25T18:33:10.74716Z"
    }
   },
   "outputs": [],
   "source": [
    "train.head()"
   ]
  },
  {
   "cell_type": "markdown",
   "metadata": {},
   "source": [
    "**Using HuggingFace xlm roberta large model pretrained on squad2 dataset**"
   ]
  },
  {
   "cell_type": "code",
   "execution_count": null,
   "metadata": {
    "execution": {
     "iopub.execute_input": "2021-12-25T18:33:10.766856Z",
     "iopub.status.busy": "2021-12-25T18:33:10.766285Z",
     "iopub.status.idle": "2021-12-25T18:33:19.11821Z",
     "shell.execute_reply": "2021-12-25T18:33:19.117372Z",
     "shell.execute_reply.started": "2021-12-25T18:33:10.766816Z"
    }
   },
   "outputs": [],
   "source": [
    "!pip install transformers"
   ]
  },
  {
   "cell_type": "code",
   "execution_count": null,
   "metadata": {
    "execution": {
     "iopub.execute_input": "2021-12-25T18:33:19.120481Z",
     "iopub.status.busy": "2021-12-25T18:33:19.120193Z",
     "iopub.status.idle": "2021-12-25T18:35:19.428242Z",
     "shell.execute_reply": "2021-12-25T18:35:19.427492Z",
     "shell.execute_reply.started": "2021-12-25T18:33:19.120439Z"
    }
   },
   "outputs": [],
   "source": [
    "from transformers import AutoTokenizer, AutoModelForQuestionAnswering\n",
    "\n",
    "tokenizer = AutoTokenizer.from_pretrained(\"deepset/xlm-roberta-large-squad2\")\n",
    "\n",
    "model = AutoModelForQuestionAnswering.from_pretrained(\"deepset/xlm-roberta-large-squad2\")"
   ]
  },
  {
   "cell_type": "markdown",
   "metadata": {},
   "source": [
    "**Pre Processing**"
   ]
  },
  {
   "cell_type": "code",
   "execution_count": null,
   "metadata": {
    "execution": {
     "iopub.execute_input": "2021-12-25T18:35:19.42979Z",
     "iopub.status.busy": "2021-12-25T18:35:19.429524Z",
     "iopub.status.idle": "2021-12-25T18:35:22.1166Z",
     "shell.execute_reply": "2021-12-25T18:35:22.115734Z",
     "shell.execute_reply.started": "2021-12-25T18:35:19.429754Z"
    }
   },
   "outputs": [],
   "source": [
    "def get_answers(x):\n",
    "    start = x[0]\n",
    "    text = x[1]\n",
    "    return {\n",
    "        'answer_start': [start],\n",
    "        'text': [text]\n",
    "    }\n",
    "\n",
    "\n",
    "train['answers'] = train[['answer_start', 'answer_text']].apply(get_answers, axis=1)\n",
    "\n",
    "train['answer_end'] = None\n",
    "for i in range(len(train)):\n",
    "    train['answer_end'][i] = (train['answer_start'][i]) + len(train['answer_text'][i])\n",
    "\n",
    "pd.set_option('display.max_colwidth',None)"
   ]
  },
  {
   "cell_type": "code",
   "execution_count": null,
   "metadata": {
    "execution": {
     "iopub.execute_input": "2021-12-25T18:35:22.118213Z",
     "iopub.status.busy": "2021-12-25T18:35:22.117811Z",
     "iopub.status.idle": "2021-12-25T18:35:22.144302Z",
     "shell.execute_reply": "2021-12-25T18:35:22.140608Z",
     "shell.execute_reply.started": "2021-12-25T18:35:22.118178Z"
    }
   },
   "outputs": [],
   "source": [
    "train.head()"
   ]
  },
  {
   "cell_type": "code",
   "execution_count": null,
   "metadata": {
    "execution": {
     "iopub.execute_input": "2021-12-25T18:35:22.146773Z",
     "iopub.status.busy": "2021-12-25T18:35:22.145924Z",
     "iopub.status.idle": "2021-12-25T18:35:22.162707Z",
     "shell.execute_reply": "2021-12-25T18:35:22.161897Z",
     "shell.execute_reply.started": "2021-12-25T18:35:22.146735Z"
    }
   },
   "outputs": [],
   "source": [
    "pad_on_right = (tokenizer.padding_side == \"right\")\n",
    "max_length = 384\n",
    "doc_stride = 128\n",
    "\n",
    "def prepare_train_features(examples):\n",
    "    # Some of the questions have lots of whitespace on the left, which is not useful and will make the\n",
    "    # truncation of the context fail (the tokenized question will take a lots of space). So we remove that\n",
    "    # left whitespace\n",
    "    examples[\"question\"] = [q.lstrip() for q in examples[\"question\"]]\n",
    "\n",
    "    # Tokenize our examples with truncation and padding, but keep the overflows using a stride. This results\n",
    "    # in one example possible giving several features when a context is long, each of those features having a\n",
    "    # context that overlaps a bit the context of the previous feature.\n",
    "    tokenized_examples = tokenizer(\n",
    "        examples[\"question\" if pad_on_right else \"context\"],\n",
    "        examples[\"context\" if pad_on_right else \"question\"],\n",
    "        truncation=\"only_second\" if pad_on_right else \"only_first\",\n",
    "        max_length=max_length,\n",
    "        stride=doc_stride,\n",
    "        return_overflowing_tokens=True,\n",
    "        return_offsets_mapping=True,\n",
    "        padding=\"max_length\",\n",
    "    )\n",
    "    \n",
    "    # Since one example might give us several features if it has a long context, we need a map from a feature to\n",
    "    # its corresponding example. This key gives us just that.\n",
    "    # sample_mapping = tokenized_examples[\"overflow_to_sample_mapping\"]\n",
    "    sample_mapping = tokenized_examples.pop(\"overflow_to_sample_mapping\")\n",
    "    # The offset mappings will give us a map from token to character position in the original context. This will\n",
    "    # help us compute the start_positions and end_positions.\n",
    "    # offset_mapping = tokenized_examples[\"offset_mapping\"]\n",
    "    offset_mapping = tokenized_examples.pop(\"offset_mapping\")\n",
    "    # Let's label those examples!\n",
    "    tokenized_examples[\"start_positions\"] = []\n",
    "    tokenized_examples[\"end_positions\"] = []\n",
    "\n",
    "    for i, offsets in enumerate(offset_mapping):\n",
    "        # We will label impossible answers with the index of the CLS token.\n",
    "        input_ids = tokenized_examples[\"input_ids\"][i]\n",
    "        cls_index = input_ids.index(tokenizer.cls_token_id)\n",
    "\n",
    "        # Grab the sequence corresponding to that example (to know what is the context and what is the question).\n",
    "        sequence_ids = tokenized_examples.sequence_ids(i)\n",
    "\n",
    "        # One example can give several spans, this is the index of the example containing this span of text.\n",
    "        sample_index = sample_mapping[i]\n",
    "        answers = examples[\"answers\"][sample_index]\n",
    "        # If no answers are given, set the cls_index as answer.\n",
    "        if len(answers[\"answer_start\"]) == 0:\n",
    "            tokenized_examples[\"start_positions\"].append(cls_index)\n",
    "            tokenized_examples[\"end_positions\"].append(cls_index)\n",
    "        else:\n",
    "            # Start/end character index of the answer in the text.\n",
    "            start_char = answers[\"answer_start\"][0]\n",
    "            end_char = examples['answer_end'][sample_index]\n",
    "\n",
    "            # Start token index of the current span in the text.\n",
    "            token_start_index = 0\n",
    "            while sequence_ids[token_start_index] != (1 if pad_on_right else 0):\n",
    "                token_start_index += 1\n",
    "\n",
    "            # End token index of the current span in the text.\n",
    "            token_end_index = len(input_ids) - 1\n",
    "            while sequence_ids[token_end_index] != (1 if pad_on_right else 0):\n",
    "                token_end_index -= 1\n",
    "                \n",
    "        # Detect if the answer is out of the span (in which case this feature is labeled with the CLS index).\n",
    "            if not (offsets[token_start_index][0] <= start_char and offsets[token_end_index][1] >= end_char):\n",
    "                tokenized_examples[\"start_positions\"].append(cls_index)\n",
    "                tokenized_examples[\"end_positions\"].append(cls_index)\n",
    "            else:\n",
    "                # Otherwise move the token_start_index and token_end_index to the two ends of the answer.\n",
    "                # Note: we could go after the last offset if the answer is the last word (edge case).\n",
    "                while token_start_index < len(offsets) and offsets[token_start_index][0] <= start_char:\n",
    "                    token_start_index += 1\n",
    "                tokenized_examples[\"start_positions\"].append(token_start_index - 1)\n",
    "                while offsets[token_end_index][1] >= end_char:\n",
    "                    token_end_index -= 1\n",
    "                tokenized_examples[\"end_positions\"].append(token_end_index + 1)\n",
    "\n",
    "    return tokenized_examples"
   ]
  },
  {
   "cell_type": "code",
   "execution_count": null,
   "metadata": {
    "execution": {
     "iopub.execute_input": "2021-12-25T18:35:22.16642Z",
     "iopub.status.busy": "2021-12-25T18:35:22.166231Z",
     "iopub.status.idle": "2021-12-25T18:35:22.691394Z",
     "shell.execute_reply": "2021-12-25T18:35:22.690358Z",
     "shell.execute_reply.started": "2021-12-25T18:35:22.166396Z"
    }
   },
   "outputs": [],
   "source": [
    "import datasets\n",
    "from datasets import Dataset\n",
    "df_train = train[:-64].reset_index(drop=True)\n",
    "df_valid = train[-64:].reset_index(drop=True)\n",
    "\n",
    "Train = Dataset.from_pandas(df_train)\n",
    "valid = Dataset.from_pandas(df_valid)\n",
    "print(df_train.shape,df_valid.shape)\n",
    "print(Train.shape, valid.shape)"
   ]
  },
  {
   "cell_type": "code",
   "execution_count": null,
   "metadata": {
    "execution": {
     "iopub.execute_input": "2021-12-25T18:35:22.695648Z",
     "iopub.status.busy": "2021-12-25T18:35:22.69538Z",
     "iopub.status.idle": "2021-12-25T18:36:01.913616Z",
     "shell.execute_reply": "2021-12-25T18:36:01.912984Z",
     "shell.execute_reply.started": "2021-12-25T18:35:22.695612Z"
    }
   },
   "outputs": [],
   "source": [
    "preprocessed_train = Train.map(prepare_train_features, batched=True, remove_columns = Train.column_names)"
   ]
  },
  {
   "cell_type": "code",
   "execution_count": null,
   "metadata": {
    "execution": {
     "iopub.execute_input": "2021-12-25T18:36:01.915104Z",
     "iopub.status.busy": "2021-12-25T18:36:01.914762Z",
     "iopub.status.idle": "2021-12-25T18:36:02.080101Z",
     "shell.execute_reply": "2021-12-25T18:36:02.079352Z",
     "shell.execute_reply.started": "2021-12-25T18:36:01.915065Z"
    }
   },
   "outputs": [],
   "source": [
    "preprocessed_valid = valid.map(prepare_train_features, batched=True, remove_columns = Train.column_names)"
   ]
  },
  {
   "cell_type": "code",
   "execution_count": null,
   "metadata": {
    "execution": {
     "iopub.execute_input": "2021-12-25T18:36:02.082215Z",
     "iopub.status.busy": "2021-12-25T18:36:02.081389Z",
     "iopub.status.idle": "2021-12-25T18:36:02.747108Z",
     "shell.execute_reply": "2021-12-25T18:36:02.746357Z",
     "shell.execute_reply.started": "2021-12-25T18:36:02.082168Z"
    }
   },
   "outputs": [],
   "source": [
    "from transformers import default_data_collator, TrainingArguments, Trainer, EarlyStoppingCallback"
   ]
  },
  {
   "cell_type": "code",
   "execution_count": null,
   "metadata": {
    "execution": {
     "iopub.execute_input": "2021-12-25T18:36:02.748807Z",
     "iopub.status.busy": "2021-12-25T18:36:02.748545Z",
     "iopub.status.idle": "2021-12-25T18:36:02.944753Z",
     "shell.execute_reply": "2021-12-25T18:36:02.943837Z",
     "shell.execute_reply.started": "2021-12-25T18:36:02.748772Z"
    }
   },
   "outputs": [],
   "source": [
    "import torch\n",
    "import gc\n",
    "gc.collect()\n",
    "torch.cuda.empty_cache()\n",
    "%env WANDB_DISABLED=True"
   ]
  },
  {
   "cell_type": "code",
   "execution_count": null,
   "metadata": {
    "execution": {
     "iopub.execute_input": "2021-12-25T18:36:02.946411Z",
     "iopub.status.busy": "2021-12-25T18:36:02.946063Z",
     "iopub.status.idle": "2021-12-25T18:36:08.486681Z",
     "shell.execute_reply": "2021-12-25T18:36:08.485889Z",
     "shell.execute_reply.started": "2021-12-25T18:36:02.946368Z"
    }
   },
   "outputs": [],
   "source": [
    "data_collator = default_data_collator\n",
    "# Define Trainer\n",
    "args = TrainingArguments(\n",
    "    overwrite_output_dir=True, \n",
    "    fp16= True,\n",
    "    output_dir=\"./output\",\n",
    "    evaluation_strategy=\"epoch\",\n",
    "    save_strategy = \"epoch\",\n",
    "    warmup_steps=500,\n",
    "    warmup_ratio=0.1,\n",
    "    learning_rate=2e-5,\n",
    "    per_device_train_batch_size=4,\n",
    "    per_device_eval_batch_size=4,\n",
    "    num_train_epochs=1,\n",
    "    weight_decay=0.01,\n",
    "    load_best_model_at_end=True,\n",
    ")\n",
    "\n",
    "trainer = Trainer(\n",
    "    model=model,\n",
    "    args=args,\n",
    "    train_dataset=preprocessed_train,\n",
    "    eval_dataset=preprocessed_valid,\n",
    "    data_collator=data_collator,\n",
    "    callbacks=[EarlyStoppingCallback(early_stopping_patience=3)],\n",
    "    tokenizer=tokenizer\n",
    ")"
   ]
  },
  {
   "cell_type": "code",
   "execution_count": null,
   "metadata": {
    "execution": {
     "iopub.execute_input": "2021-12-25T18:36:18.232773Z",
     "iopub.status.busy": "2021-12-25T18:36:18.232503Z",
     "iopub.status.idle": "2021-12-25T19:42:36.256684Z",
     "shell.execute_reply": "2021-12-25T19:42:36.255972Z",
     "shell.execute_reply.started": "2021-12-25T18:36:18.232741Z"
    }
   },
   "outputs": [],
   "source": [
    "trainer.train()"
   ]
  },
  {
   "cell_type": "code",
   "execution_count": null,
   "metadata": {
    "execution": {
     "iopub.execute_input": "2021-12-25T19:42:36.259159Z",
     "iopub.status.busy": "2021-12-25T19:42:36.258369Z",
     "iopub.status.idle": "2021-12-25T19:42:37.015648Z",
     "shell.execute_reply": "2021-12-25T19:42:37.014821Z",
     "shell.execute_reply.started": "2021-12-25T19:42:36.259121Z"
    }
   },
   "outputs": [],
   "source": [
    "!ls -a output"
   ]
  },
  {
   "cell_type": "markdown",
   "metadata": {},
   "source": [
    "**Test Dataset**"
   ]
  },
  {
   "cell_type": "code",
   "execution_count": null,
   "metadata": {
    "execution": {
     "iopub.execute_input": "2021-12-25T19:42:50.656467Z",
     "iopub.status.busy": "2021-12-25T19:42:50.656172Z",
     "iopub.status.idle": "2021-12-25T19:42:57.528701Z",
     "shell.execute_reply": "2021-12-25T19:42:57.527953Z",
     "shell.execute_reply.started": "2021-12-25T19:42:50.656435Z"
    }
   },
   "outputs": [],
   "source": [
    "checkpoint_model = AutoModelForQuestionAnswering.from_pretrained(\"./output/checkpoint-5321\")"
   ]
  },
  {
   "cell_type": "code",
   "execution_count": null,
   "metadata": {
    "execution": {
     "iopub.execute_input": "2021-12-25T19:43:00.863856Z",
     "iopub.status.busy": "2021-12-25T19:43:00.863373Z",
     "iopub.status.idle": "2021-12-25T19:43:00.888606Z",
     "shell.execute_reply": "2021-12-25T19:43:00.887857Z",
     "shell.execute_reply.started": "2021-12-25T19:43:00.863818Z"
    }
   },
   "outputs": [],
   "source": [
    "test_dataset = pd.read_csv('../input/chaii-hindi-and-tamil-question-answering/test.csv')"
   ]
  },
  {
   "cell_type": "code",
   "execution_count": null,
   "metadata": {
    "execution": {
     "iopub.execute_input": "2021-12-25T19:43:03.70313Z",
     "iopub.status.busy": "2021-12-25T19:43:03.70284Z",
     "iopub.status.idle": "2021-12-25T19:43:03.717728Z",
     "shell.execute_reply": "2021-12-25T19:43:03.716954Z",
     "shell.execute_reply.started": "2021-12-25T19:43:03.703097Z"
    }
   },
   "outputs": [],
   "source": [
    "test = Dataset.from_pandas(test_dataset)"
   ]
  },
  {
   "cell_type": "code",
   "execution_count": null,
   "metadata": {
    "execution": {
     "iopub.execute_input": "2021-12-25T19:43:04.067705Z",
     "iopub.status.busy": "2021-12-25T19:43:04.067445Z",
     "iopub.status.idle": "2021-12-25T19:43:04.639023Z",
     "shell.execute_reply": "2021-12-25T19:43:04.638276Z",
     "shell.execute_reply.started": "2021-12-25T19:43:04.067676Z"
    }
   },
   "outputs": [],
   "source": [
    "test_trainer = Trainer(checkpoint_model)"
   ]
  },
  {
   "cell_type": "code",
   "execution_count": null,
   "metadata": {
    "execution": {
     "iopub.execute_input": "2021-12-25T19:43:07.168712Z",
     "iopub.status.busy": "2021-12-25T19:43:07.168153Z",
     "iopub.status.idle": "2021-12-25T19:43:07.723611Z",
     "shell.execute_reply": "2021-12-25T19:43:07.722845Z",
     "shell.execute_reply.started": "2021-12-25T19:43:07.168673Z"
    }
   },
   "outputs": [],
   "source": [
    "def prepare_test_features_for_final_prediction(examples):\n",
    "    # Some of the questions have lots of whitespace on the left, which is not useful and will make the\n",
    "    # truncation of the context fail (the tokenized question will take a lots of space). So we remove that\n",
    "    # left whitespace\n",
    "    examples[\"question\"] = [q.lstrip() for q in examples[\"question\"]]\n",
    "\n",
    "    # Tokenize our examples with truncation and maybe padding, but keep the overflows using a stride. This results\n",
    "    # in one example possible giving several features when a context is long, each of those features having a\n",
    "    # context that overlaps a bit the context of the previous feature.\n",
    "    tokenized_examples = tokenizer(\n",
    "        examples[\"question\" if pad_on_right else \"context\"],\n",
    "        examples[\"context\" if pad_on_right else \"question\"],\n",
    "        truncation=\"only_second\" if pad_on_right else \"only_first\",\n",
    "        max_length=max_length,\n",
    "        stride=doc_stride,\n",
    "        return_overflowing_tokens=True,\n",
    "        return_offsets_mapping=True,\n",
    "        padding=\"max_length\",\n",
    "    )\n",
    "    \n",
    "    # Since one example might give us several features if it has a long context, we need a map from a feature to\n",
    "    # its corresponding example. This key gives us just that.\n",
    "    sample_mapping = tokenized_examples.pop(\"overflow_to_sample_mapping\")\n",
    "\n",
    "    # We keep the example_id that gave us this feature and we will store the offset mappings.\n",
    "    tokenized_examples[\"example_id\"] = []\n",
    "\n",
    "    for i in range(len(tokenized_examples[\"input_ids\"])):\n",
    "        # Grab the sequence corresponding to that example (to know what is the context and what is the question).\n",
    "        sequence_ids = tokenized_examples.sequence_ids(i)\n",
    "        context_index = 1 if pad_on_right else 0\n",
    "\n",
    "        # One example can give several spans, this is the index of the example containing this span of text.\n",
    "        sample_index = sample_mapping[i]\n",
    "        tokenized_examples[\"example_id\"].append(examples[\"id\"][sample_index])\n",
    "\n",
    "        # Set to None the offset_mapping that are not part of the context so it's easy to determine if a token\n",
    "        \n",
    "        # position is part of the context or not.\n",
    "        tokenized_examples[\"offset_mapping\"][i] = [\n",
    "            (o if sequence_ids[k] == context_index else None)\n",
    "            for k, o in enumerate(tokenized_examples[\"offset_mapping\"][i])\n",
    "        ]\n",
    "\n",
    "    return tokenized_examples\n",
    "preprocessed_test = test.map(prepare_test_features_for_final_prediction,\n",
    "                            batched = True,\n",
    "                            remove_columns = test.column_names\n",
    "                            )"
   ]
  },
  {
   "cell_type": "code",
   "execution_count": null,
   "metadata": {
    "execution": {
     "iopub.execute_input": "2021-12-25T19:43:10.629424Z",
     "iopub.status.busy": "2021-12-25T19:43:10.628854Z",
     "iopub.status.idle": "2021-12-25T19:43:11.105828Z",
     "shell.execute_reply": "2021-12-25T19:43:11.105107Z",
     "shell.execute_reply.started": "2021-12-25T19:43:10.629382Z"
    }
   },
   "outputs": [],
   "source": [
    "preprocessed_test = test.map(prepare_test_features_for_final_prediction,\n",
    "                            batched = True,\n",
    "                            remove_columns = test.column_names\n",
    "                            )"
   ]
  },
  {
   "cell_type": "code",
   "execution_count": null,
   "metadata": {
    "execution": {
     "iopub.execute_input": "2021-12-25T19:43:13.108243Z",
     "iopub.status.busy": "2021-12-25T19:43:13.1077Z",
     "iopub.status.idle": "2021-12-25T19:43:16.223621Z",
     "shell.execute_reply": "2021-12-25T19:43:16.222922Z",
     "shell.execute_reply.started": "2021-12-25T19:43:13.108202Z"
    }
   },
   "outputs": [],
   "source": [
    "preprocessed_test_small = preprocessed_test.map(lambda example: example, remove_columns=['example_id', 'offset_mapping'])\n",
    "predictions = test_trainer.predict(preprocessed_test_small)"
   ]
  },
  {
   "cell_type": "code",
   "execution_count": null,
   "metadata": {
    "execution": {
     "iopub.execute_input": "2021-12-25T19:43:18.392367Z",
     "iopub.status.busy": "2021-12-25T19:43:18.391828Z",
     "iopub.status.idle": "2021-12-25T19:43:18.403095Z",
     "shell.execute_reply": "2021-12-25T19:43:18.402001Z",
     "shell.execute_reply.started": "2021-12-25T19:43:18.39233Z"
    }
   },
   "outputs": [],
   "source": [
    "predictions "
   ]
  },
  {
   "cell_type": "code",
   "execution_count": null,
   "metadata": {
    "execution": {
     "iopub.execute_input": "2021-12-25T19:43:21.534538Z",
     "iopub.status.busy": "2021-12-25T19:43:21.53411Z",
     "iopub.status.idle": "2021-12-25T19:43:21.548691Z",
     "shell.execute_reply": "2021-12-25T19:43:21.547776Z",
     "shell.execute_reply.started": "2021-12-25T19:43:21.5345Z"
    }
   },
   "outputs": [],
   "source": [
    "def postprocess_predictions(examples, features, raw_predictions, n_best_size = 20, max_answer_length = 30):\n",
    "    all_start_logits, all_end_logits = raw_predictions\n",
    "    # Build a map example to its corresponding features.\n",
    "    example_id_to_index = {k: i for i, k in enumerate(examples[\"id\"])}\n",
    "    features_per_example = collections.defaultdict(list)\n",
    "    for i, feature in enumerate(features):\n",
    "        features_per_example[example_id_to_index[feature[\"example_id\"]]].append(i)\n",
    "\n",
    "    # The dictionaries we have to fill.\n",
    "    predictions = collections.OrderedDict()\n",
    "\n",
    "    # Logging.\n",
    "    print(f\"Post-processing {len(examples)} example predictions split into {len(features)} features.\")\n",
    "\n",
    "    # Let's loop over all the examples!\n",
    "    for example_index, example in enumerate(tqdm(examples)):\n",
    "        # Those are the indices of the features associated to the current example.\n",
    "        feature_indices = features_per_example[example_index]\n",
    "\n",
    "        min_null_score = None # Only used if squad_v2 is True.\n",
    "        valid_answers = []\n",
    "        context = example[\"context\"]\n",
    "        # Looping through all the features associated to the current example.\n",
    "        for feature_index in feature_indices:\n",
    "            # We grab the predictions of the model for this feature.\n",
    "            start_logits = all_start_logits[feature_index]\n",
    "            end_logits = all_end_logits[feature_index]\n",
    "            # This is what will allow us to map some the positions in our logits to span of texts in the original\n",
    "            # context.\n",
    "            offset_mapping = features[feature_index][\"offset_mapping\"]\n",
    "\n",
    "            # Update minimum null prediction.\n",
    "            cls_index = features[feature_index][\"input_ids\"].index(tokenizer.cls_token_id)\n",
    "            feature_null_score = start_logits[cls_index] + end_logits[cls_index]\n",
    "            if min_null_score is None or min_null_score < feature_null_score:\n",
    "                min_null_score = feature_null_score\n",
    "\n",
    "            # Go through all possibilities for the `n_best_size` greater start and end logits.\n",
    "            start_indexes = np.argsort(start_logits)[-1 : -n_best_size - 1 : -1].tolist()\n",
    "            end_indexes = np.argsort(end_logits)[-1 : -n_best_size - 1 : -1].tolist()\n",
    "            \n",
    "            for start_index in start_indexes:\n",
    "                for end_index in end_indexes:\n",
    "                    # Don't consider out-of-scope answers, either because the indices are out of bounds or correspond\n",
    "                    # to part of the input_ids that are not in the context.\n",
    "                    if (\n",
    "                        start_index >= len(offset_mapping)\n",
    "                        or end_index >= len(offset_mapping)\n",
    "                        or offset_mapping[start_index] is None\n",
    "                        or offset_mapping[end_index] is None\n",
    "                    ):\n",
    "                        continue\n",
    "                    # Don't consider answers with a length that is either < 0 or > max_answer_length.\n",
    "                    if end_index < start_index or end_index - start_index + 1 > max_answer_length:\n",
    "                        continue\n",
    "\n",
    "                    start_char = offset_mapping[start_index][0]\n",
    "                    end_char = offset_mapping[end_index][1]\n",
    "                    \n",
    "                    valid_answers.append(\n",
    "                        {\n",
    "                            \"score\": start_logits[start_index] + end_logits[end_index],\n",
    "                            \"text\": context[start_char: end_char]\n",
    "                        }\n",
    "                    )\n",
    "        \n",
    "        if len(valid_answers) > 0:\n",
    "            best_answer = sorted(valid_answers, key=lambda x: x[\"score\"], reverse=True)[0]\n",
    "        else:\n",
    "            # In the very rare edge case we have not a single non-null prediction, we create a fake prediction to avoid\n",
    "            # failure.\n",
    "            best_answer = {\"text\": \"\", \"score\": 0.0}\n",
    "        \n",
    "        # Let's pick our final answer: the best one or the null answer (only for squad_v2)\n",
    "        predictions[example[\"id\"]] = best_answer[\"text\"]\n",
    "\n",
    "    return predictions"
   ]
  },
  {
   "cell_type": "code",
   "execution_count": null,
   "metadata": {
    "execution": {
     "iopub.execute_input": "2021-12-25T19:43:22.858209Z",
     "iopub.status.busy": "2021-12-25T19:43:22.857376Z",
     "iopub.status.idle": "2021-12-25T19:43:22.862095Z",
     "shell.execute_reply": "2021-12-25T19:43:22.861237Z",
     "shell.execute_reply.started": "2021-12-25T19:43:22.858158Z"
    }
   },
   "outputs": [],
   "source": [
    "import collections\n",
    "from tqdm.auto import tqdm"
   ]
  },
  {
   "cell_type": "code",
   "execution_count": null,
   "metadata": {
    "execution": {
     "iopub.execute_input": "2021-12-25T19:45:30.699699Z",
     "iopub.status.busy": "2021-12-25T19:45:30.698986Z",
     "iopub.status.idle": "2021-12-25T19:45:31.095521Z",
     "shell.execute_reply": "2021-12-25T19:45:31.094866Z",
     "shell.execute_reply.started": "2021-12-25T19:45:30.699662Z"
    }
   },
   "outputs": [],
   "source": [
    "prediction = postprocess_predictions(test, preprocessed_test, predictions.predictions)"
   ]
  },
  {
   "cell_type": "code",
   "execution_count": null,
   "metadata": {
    "execution": {
     "iopub.execute_input": "2021-12-25T19:45:37.688738Z",
     "iopub.status.busy": "2021-12-25T19:45:37.688057Z",
     "iopub.status.idle": "2021-12-25T19:45:37.693929Z",
     "shell.execute_reply": "2021-12-25T19:45:37.693262Z",
     "shell.execute_reply.started": "2021-12-25T19:45:37.688699Z"
    }
   },
   "outputs": [],
   "source": [
    "prediction"
   ]
  },
  {
   "cell_type": "code",
   "execution_count": null,
   "metadata": {
    "execution": {
     "iopub.execute_input": "2021-12-25T19:45:43.358662Z",
     "iopub.status.busy": "2021-12-25T19:45:43.357928Z",
     "iopub.status.idle": "2021-12-25T19:45:43.374482Z",
     "shell.execute_reply": "2021-12-25T19:45:43.373684Z",
     "shell.execute_reply.started": "2021-12-25T19:45:43.358625Z"
    }
   },
   "outputs": [],
   "source": [
    "submission = pd.read_csv(\"../input/chaii-hindi-and-tamil-question-answering/sample_submission.csv\")\n",
    "submission = pd.DataFrame({\"id\":submission[\"id\"],\"PredictionString\":prediction.values()})"
   ]
  },
  {
   "cell_type": "code",
   "execution_count": null,
   "metadata": {
    "execution": {
     "iopub.execute_input": "2021-12-25T19:45:48.358252Z",
     "iopub.status.busy": "2021-12-25T19:45:48.357795Z",
     "iopub.status.idle": "2021-12-25T19:45:48.373397Z",
     "shell.execute_reply": "2021-12-25T19:45:48.372649Z",
     "shell.execute_reply.started": "2021-12-25T19:45:48.358205Z"
    }
   },
   "outputs": [],
   "source": [
    "submission"
   ]
  },
  {
   "cell_type": "code",
   "execution_count": null,
   "metadata": {
    "execution": {
     "iopub.execute_input": "2021-12-25T19:45:55.873606Z",
     "iopub.status.busy": "2021-12-25T19:45:55.872995Z",
     "iopub.status.idle": "2021-12-25T19:45:55.88229Z",
     "shell.execute_reply": "2021-12-25T19:45:55.881567Z",
     "shell.execute_reply.started": "2021-12-25T19:45:55.873563Z"
    }
   },
   "outputs": [],
   "source": [
    "submission.to_csv(\"submission.csv\")"
   ]
  },
  {
   "cell_type": "code",
   "execution_count": null,
   "metadata": {
    "execution": {
     "iopub.execute_input": "2021-12-25T19:46:04.82461Z",
     "iopub.status.busy": "2021-12-25T19:46:04.82402Z",
     "iopub.status.idle": "2021-12-25T19:46:04.838233Z",
     "shell.execute_reply": "2021-12-25T19:46:04.83748Z",
     "shell.execute_reply.started": "2021-12-25T19:46:04.824571Z"
    }
   },
   "outputs": [],
   "source": [
    "pd.read_csv(\"../input/chaii-hindi-and-tamil-question-answering/sample_submission.csv\")"
   ]
  },
  {
   "cell_type": "code",
   "execution_count": null,
   "metadata": {
    "execution": {
     "iopub.execute_input": "2021-12-25T19:46:09.263794Z",
     "iopub.status.busy": "2021-12-25T19:46:09.263524Z",
     "iopub.status.idle": "2021-12-25T19:46:09.271686Z",
     "shell.execute_reply": "2021-12-25T19:46:09.271022Z",
     "shell.execute_reply.started": "2021-12-25T19:46:09.263764Z"
    }
   },
   "outputs": [],
   "source": [
    "submission"
   ]
  }
 ],
 "metadata": {
  "kernelspec": {
   "display_name": "Python 3 (ipykernel)",
   "language": "python",
   "name": "python3"
  },
  "language_info": {
   "codemirror_mode": {
    "name": "ipython",
    "version": 3
   },
   "file_extension": ".py",
   "mimetype": "text/x-python",
   "name": "python",
   "nbconvert_exporter": "python",
   "pygments_lexer": "ipython3",
   "version": "3.8.12"
  }
 },
 "nbformat": 4,
 "nbformat_minor": 4
}
